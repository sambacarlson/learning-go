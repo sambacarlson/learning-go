{
 "cells": [
  {
   "cell_type": "markdown",
   "metadata": {},
   "source": [
    "### Modules\n",
    "A go module is a collection of Go packages.\n",
    "A Go module therefore looks something like this\n",
    "```tree\n",
    "  .\n",
    "  |-- go.mod\n",
    "  |-- pkga\n",
    "  | '-- pkga.go \n",
    "  |-- pkgb\n",
    "  | '-- pkgb.go \n",
    "  '-- pkgc\n",
    "  | '-- pkgc.go\n",
    "```\n",
    "\n",
    "`go.mod` specifies the module's dependencies, required minimum go version and other metadata"
   ]
  },
  {
   "cell_type": "markdown",
   "metadata": {},
   "source": [
    "Modules are at the heart of Go's toolchain used to build and manage Go packages. command such as `go build`, `go test` and `go get` work with modules, but for interacting with modules and managing them, the `go mod` command is used. \\\n",
    "The `go help mod` command will print a list of these commands."
   ]
  },
  {
   "cell_type": "code",
   "execution_count": null,
   "metadata": {},
   "outputs": [],
   "source": [
    "!go help mod"
   ]
  },
  {
   "cell_type": "markdown",
   "metadata": {},
   "source": [
    "The `go mod init` command is used to initialize a new module. \\\n",
    "Use `go mod help init` for details"
   ]
  },
  {
   "cell_type": "code",
   "execution_count": null,
   "metadata": {},
   "outputs": [],
   "source": [
    "!go mod help init"
   ]
  },
  {
   "cell_type": "markdown",
   "metadata": {},
   "source": [
    "Go tooling has support for underlying Version Control Systems(VCS) such as git and mercurial. \\\n",
    "If you plan to host your module on one of these services or an internal VCS, you will most likely want to use a module that can be fetched using the VCS through the `go get` command. You would therefore initialize your module with a name such as `github.com/user/repo`, and someone else could use `go get github.com/user/repo` to fetch that module from the VCS"
   ]
  },
  {
   "cell_type": "markdown",
   "metadata": {},
   "source": [
    "### Packages\n",
    "- A collection of Go source files that share the same import path\n",
    "- These files are almost always in the same directory as each other\n",
    "- The directory name is almost always the same as the package name.\n",
    "\n",
    "Consider the tree below\n",
    "```tree\n",
    "  .\n",
    "  |-- go.mod\n",
    "  |-- smtp\n",
    "  | |-- smtp.go\n",
    "  | '-- template.go \n",
    "  '-- sound\n",
    "  | |-- analyzer.go \n",
    "  | '-- sound.go\n",
    "```\n",
    "- The structure contains 2 directories `smtp` and `sound`, each of which contains `.go` files. Hence, `smtp` and `sound` are considered to be packages\n",
    "Code within  a package can reference any identifier such as a function, variable  or type within the package, regardless of whether that identifier is exported"
   ]
  },
  {
   "cell_type": "markdown",
   "metadata": {},
   "source": [
    "**Naming packages**\n",
    "- The name of the package *must* be decleared at the top of *every* Go source file using the `package` keyword \n",
    "- Package names are lowercased, contain only letters and numbers and must start with a letter. Underscores and captital letters are discouraged. \n",
    "- Keep package names short and descriptive. use easy to understand abbreviations if necessary.\n",
    "- Avoid using the name of porpular packages eg 'user', 'conn', 'db'\n",
    "- Avoid generic or \"catch-all\" packages such as 'util', 'helpler', 'misc' etc. They are not descriptive, and they are an open invitation for dumping random code.\n",
    "> Your packages should be focused on the specific functionality and problem space they provide."
   ]
  },
  {
   "cell_type": "markdown",
   "metadata": {},
   "source": [
    "**File structure**\n",
    "- With a few exceptions, the name of the folder and the package are the same. They don't have to match but it is greatly adviced\n",
    "- All files within the same directory/package have to have to the same package name in the file.\n",
    "- files names are less strict than package names. The convension is to use lowercase letters and underscores"
   ]
  },
  {
   "cell_type": "markdown",
   "metadata": {},
   "source": [
    "There really is no best way to organize packages. Keep a few point in mind when organizing packages though;\n",
    "- Code organization\n",
    "- Documentation\n",
    "- Maintainability\n",
    "- Reusability\n",
    "- Testing"
   ]
  },
  {
   "cell_type": "markdown",
   "metadata": {},
   "source": [
    "- Focus: Packages should be singularly focused\n",
    "- API scope: Export only the most necessary identifiers.\n",
    "- File organiztion: Packages should be organized in a way that is clear and obvious. Break packages into smaller files having a clear purpose "
   ]
  },
  {
   "cell_type": "markdown",
   "metadata": {},
   "source": [
    "**Importing packages and modules**\n",
    "- Import path for a package is the relative path from the module root to the package diretory. \n",
    "- Import path for package or module  always starts with module name.\n",
    "- The `import` keyword is used along with the fully qualified packag name to import. \n",
    "- Multiple import statements can be condensed into a single import statement.\n",
    "Example:\n",
    "```go\n",
    "  import (\n",
    "    \"time\"\n",
    "    \"os/exec\"\n",
    "    \"github.com/user/repo/sound\"\n",
    "  )\n",
    "```"
   ]
  },
  {
   "cell_type": "markdown",
   "metadata": {},
   "source": [
    "It is not uncommon to run into naming collition between two packages when importing. Such collisions will lead to build failures\n",
    "- We can fix this by using an import alias for one or both packages. For example;\n",
    "```go\n",
    "  import (\n",
    "    \"demo/bar\"\n",
    "    pub \"demo/foo/bar\"\n",
    "  )\n",
    "```\n",
    "`demon/bar` and `demo/foo/bar` all have package name 'bar'. by adding an alias, eg 'pub', before the second import path, we have 'pub' as the alias for 'bar'  in the importing package. \\\n",
    "We can then use identifies from \"demo/bar\" and \"demo/foo/bar\" like so; \\\n",
    "```go\n",
    "  var _ bar.Bar\n",
    "  var _ pub.Pub // without alias would be 'bar.Pub'\n",
    "```"
   ]
  },
  {
   "cell_type": "markdown",
   "metadata": {},
   "source": [
    "### Dependencies\n",
    "Dependencies are basically 3rd party libraries (package or module) that we can use to get the functionality we need as the standard library will not always be enough.\n",
    "- To add dependencies to our module, we can use the `go get` command \n",
    "- use `go help get` for details on the command.\n",
    "- Go keeps tract of installed dependencies in the `go.mod` file at the root of the module."
   ]
  },
  {
   "cell_type": "code",
   "execution_count": null,
   "metadata": {},
   "outputs": [],
   "source": [
    "!go help get"
   ]
  },
  {
   "cell_type": "markdown",
   "metadata": {},
   "source": [
    "Example working with dependencies; \\\n",
    "Lets import and use the 'github.com/gobuffalo/flect' dependency. This package is used for string manipulation.\n",
    "- We must first initialize a module (We must work within a module)\n",
    "- Then we install the dependency\n",
    "> To see the documentation for any package, use the `go doc` command. Of course you must first get the package with go get if it is not in the standard library. Example: `go doc fmt` to see the docs of fmt package on the terminal"
   ]
  },
  {
   "cell_type": "code",
   "execution_count": null,
   "metadata": {},
   "outputs": [],
   "source": [
    "// initialize module 'notebook'\n",
    "// note that we are using shebang here because we are running shell commands from jupyter notebook cells\n",
    "!go mod init notebook"
   ]
  },
  {
   "cell_type": "code",
   "execution_count": null,
   "metadata": {},
   "outputs": [],
   "source": [
    "// get required package. \n",
    "!go get github.com/gobuffalo/flect"
   ]
  },
  {
   "cell_type": "code",
   "execution_count": null,
   "metadata": {},
   "outputs": [],
   "source": [
    "package main\n",
    "\n",
    "import (\n",
    "  \"fmt\"\n",
    "  \"github.com/gobuffalo/flect\"\n",
    ")\n",
    "\n",
    "func main() {\n",
    "  fmt.Println(flect.Pluralize(\"Cat\"))\n",
    "\tfmt.Println(flect.Dasherize(\"Hello World\"))\n",
    "}\n",
    "\n",
    "//run program with command `go run main.go`"
   ]
  },
  {
   "cell_type": "markdown",
   "metadata": {},
   "source": [
    "**The go.sum file**\n",
    "- When adding a third-party dependency to the module, the go toolchain will generate and manage a `go.sum` file.\n",
    "- The `go.sum` file contains a list of all the dependencies, direct and indirect, that are required by the module.\n",
    "- It also contains the hash fo the source code and `go.mod` file for each dependency.\n",
    "- The `go.sum` file should be checked into the version control. \n",
    "- The `go.sum` acts both as a security measure to  prevent malicious code from being added to the module and as a source of truth for the dependencies that are required by the module.\n",
    "> The `go.sum` file is manageed by the Go toolchain and shouuld not be manually modified"
   ]
  },
  {
   "cell_type": "markdown",
   "metadata": {},
   "source": [
    "**Updating Dependencies**\n",
    "- Use the `go get` command with the `-u` flag to update a package. Exmaple: \n",
    "```bash\n",
    "  go get -u github.com/gobuffalo/flect\n",
    "```\n",
    "- `go.mod` and `go.sum` will be auto updated to include the new dependency, it's version and any other dependencies it requires.\n",
    "- to update all direct dependencies of our module, we an use the `go get -u` command without specifying package name."
   ]
  },
  {
   "cell_type": "markdown",
   "metadata": {},
   "source": [
    "Go modules are versioned using [semantic versioning](https://semver.org) \\\n",
    "Example: `v1.2.3`\n",
    "- `1` is the major version of release\n",
    "- `2` is the minor version of release\n",
    "- `3` is the patch version of release\n",
    "\n",
    "Go modules also include a concept known as [semantic import versioning.](https://research.swtch.com/vgo-import)\n",
    "- If the latest version of the package is `v1.2.3`, the import path should be `github.com/user/repo`\n",
    "- If the package is updated to `v2.0.0`, then we need to change the import path to reflect the new version as shown below;\n",
    "```go\n",
    "  package foo\n",
    "  import \"github.com/user/repo/v2\"\n",
    "```\n",
    "- We are therefore able to have multiple versions of a package in our module and use aliases to allow use use multiple versions of the same package side by sid; Example;\n",
    "```go\n",
    "  package main\n",
    "  import (\n",
    "    \"fmt\"\n",
    "    \"log\"\n",
    "\n",
    "    one \"github.com/gofrs/uuid\"\n",
    "    three \"github.com/gofrs/uuid/v4\"\n",
    "  )\n",
    "\n",
    "  func main(){\n",
    "    id1 := one.NewV4()\n",
    "    fmt.Printf(\"UUID v4: %s\\n\", id1)\n",
    "\n",
    "    id2 := three.New()\n",
    "    fmt.Printf(\"UUID v4: %s\\n\", id2)\n",
    "  }\n",
    "```\n",
    "the `go.mod` file will show the specific version for each module being used in our application."
   ]
  },
  {
   "cell_type": "markdown",
   "metadata": {},
   "source": [
    "**Cyclical Imports**\n",
    "- Its unacceptable for packages to import themselves (package 'foo' cannot import package 'bar' while package 'bar' is also importing package 'foo'). This will lead to a compilation error."
   ]
  }
 ],
 "metadata": {
  "kernelspec": {
   "display_name": "Go (gonb)",
   "language": "go",
   "name": "gonb"
  },
  "language_info": {
   "codemirror_mode": "",
   "file_extension": ".go",
   "mimetype": "",
   "name": "go",
   "nbconvert_exporter": "",
   "pygments_lexer": "",
   "version": "go1.23.2"
  }
 },
 "nbformat": 4,
 "nbformat_minor": 2
}
