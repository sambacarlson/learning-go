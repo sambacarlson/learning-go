{
 "cells": [
  {
   "cell_type": "markdown",
   "id": "83657172",
   "metadata": {},
   "source": [
    "### Arrays and slices\n"
   ]
  },
  {
   "cell_type": "markdown",
   "id": "13b015e7",
   "metadata": {},
   "source": [
    "- There are only 2 ordered list collection types in Go. Arrays and slices.\n",
    "- Arrays sizes are fixed in size whereas slices are not. That's basically their only difference\n",
    "- Slices wrap arrays making them more powerful and convenient.\n",
    "- The memory needed for an array is allocated at creation time and hence the capacity of an array once defifned is unchageable. once no longer in use, an array is gabbage collected.\n",
    "- Slices on the other hand can grow and shrink as required."
   ]
  },
  {
   "cell_type": "code",
   "execution_count": 5,
   "id": "60522c43",
   "metadata": {},
   "outputs": [
    {
     "name": "stdout",
     "output_type": "stream",
     "text": [
      "[Paul Appolos Timoty Mark]\n",
      "[4]string"
     ]
    }
   ],
   "source": [
    "// array of 4 strings.\n",
    "func main(){\n",
    "\tnames := [4]string{\"Paul\", \"Appolos\", \"Timoty\", \"Mark\"}\n",
    "\tfmt.Println(names)\n",
    "\tfmt.Printf(\"%T\", names)\n",
    "}"
   ]
  },
  {
   "cell_type": "code",
   "execution_count": 6,
   "id": "4a348b52",
   "metadata": {},
   "outputs": [
    {
     "name": "stdout",
     "output_type": "stream",
     "text": [
      "[Ephesus Sardis Philadaphia]\n",
      "[]string"
     ]
    }
   ],
   "source": [
    "// Slices are more useful for daily situations\n",
    "func main(){\n",
    "\tnames := []string {\"Ephesus\", \"Sardis\", \"Philadaphia\"}\n",
    "\tfmt.Println(names)\n",
    "\tfmt.Printf(\"%T\", names)\n",
    "}"
   ]
  },
  {
   "cell_type": "markdown",
   "id": "7a32bcad",
   "metadata": {},
   "source": [
    "- With simple data types like strings, numbers, and booleans, you can use them right away without any special initialization setup. However, for more complex types like structs, you often need to initialize them before using them. \n",
    "- To initialize a type in Go, you use curly braces: `<Type>{<optional: values>}`. Inside the braces, you can include field values or leave them empty to use the type's zero values.\n",
    "- Arrays and slices are an exception in that, we don't have to to initialize them before we can use them. If not initialized, they assume their zero value. Examples bellow\n",
    "- The zero value for an array or slice is the zero values of the type of its elements"
   ]
  },
  {
   "cell_type": "code",
   "execution_count": 9,
   "id": "f24ffbf8",
   "metadata": {},
   "outputs": [
    {
     "name": "stdout",
     "output_type": "stream",
     "text": [
      "a: [5]int{0, 0, 0, 0, 0}\n",
      "a: []string{}\n",
      "a: [4]bool{true, false, false, true}\n",
      "a: []string{\"Terah\", \"Abraham\", \"Isaac\"}\n",
      "a: [5]int{0, 0, 0, 0, 0}\n",
      "a: []string(nil)\n"
     ]
    }
   ],
   "source": [
    "func main(){\n",
    "\ta := [5]int{} // initialized an array without values\n",
    "\tb := []string{} // initialized a slice without values.\n",
    "\tc := [4]bool{true, false, false, true} //initialized an array with values\n",
    "\td := []string{\"Terah\", \"Abraham\", \"Isaac\"} // initialized an array with no values\n",
    "\t\n",
    "\tvar e [5]int // declared an array without initializing\n",
    "\tvar f []string // declared a slice without initialization.\n",
    "\t// not that we use var for e and f, because := means we want to initialize.\n",
    "\n",
    "\t// We can use all of the above already, whether or not initialzed.\n",
    "\tfmt.Printf(\"a: %#v\\na: %#v\\na: %#v\\na: %#v\\na: %#v\\na: %#v\\n\", a,b,c,d,e,f)\n",
    "}"
   ]
  },
  {
   "cell_type": "markdown",
   "id": "99813dd2",
   "metadata": {},
   "source": [
    "*Indexing Arrays and slices*\n",
    "- When trying to access an array with a hard-coded index, The Go compiler checks to see if the index is out of bound. If yes,the compiler errors out.\n",
    "- If the index is a variable or the type of iterable is a slice, the compiler does not check against out-of-bounds errors. If the index is cumputed to be out of range at run-time, the program panics and possibly crashes."
   ]
  },
  {
   "cell_type": "code",
   "execution_count": 13,
   "id": "029c50b7",
   "metadata": {},
   "outputs": [
    {
     "data": {
      "text/html": [
       "\n",
       "<style>\n",
       ".gonb-err-location {\n",
       "\tbackground: var(--jp-err-color2);  \n",
       "\tborder-radius: 3px;\n",
       "\tborder-style: dotted;\n",
       "\tborder-width: 1px;\n",
       "\tborder-color: var(--jp-border-color2);\n",
       "}\n",
       ".gonb-err-location:hover {\n",
       "\tborder-width: 2px;\n",
       "\tborder-style: solid;\n",
       "\tborder-color: var(--jp-border-color2);\n",
       "}\n",
       ".gonb-err-context {\n",
       "\tdisplay: none;\n",
       "}\n",
       ".gonb-err-location:hover + .gonb-err-context {\n",
       "\tbackground: var(--jp-dialog-background);  \n",
       "\tborder-radius: 3px;\n",
       "\tborder-style: solid;\n",
       "\tborder-width: 1px;\n",
       "\tborder-color: var(--jp-border-color2);\n",
       "\tdisplay: block;\n",
       "\twhite-space: pre;\n",
       "\tfont-family: monospace;\n",
       "}\n",
       ".gonb-err-line {\n",
       "\tborder-radius: 3px;\n",
       "\tborder-style: dotted;\n",
       "\tborder-width: 1px;\t\n",
       "\tborder-color: var(--jp-border-color2);\n",
       "\tbackground-color: var(--jp-rendermime-err-background);\n",
       "\tfont-weight: bold;\n",
       "}\n",
       ".gonb-cell-line-info {\n",
       "\tbackground: var(--jp-layout-color2);\n",
       "\tcolor: #999;\n",
       "\tmargin: 0.1em;\n",
       "\tborder: 1px solid var(--jp-border-color1);\n",
       "\tpadding-left: 0.2em;\n",
       "\tpadding-right: 0.2em;\n",
       "}\n",
       "</style>\n",
       "<div class=\"lm-Widget p-Widget lm-Panel p-Panel jp-OutputArea-child\">\n",
       "<div class=\"lm-Widget p-Widget jp-RenderedText jp-mod-trusted jp-OutputArea-output\" data-mime-type=\"application/vnd.jupyter.stderr\" style=\"font-family: monospace;\">\n",
       "\n",
       "\n",
       "<span style=\"white-space: pre;\"> # gonb_36ee7f61</span>\n",
       "\n",
       "<br/>\n",
       "\n",
       "<span class=\"gonb-cell-line-info\">Cell[13]: Line 3</span>\n",
       "<span class=\"gonb-err-location\">./main.go:10:19: </span> invalid argument: index 5 out of bounds [0:4]\n",
       "<div class=\"gonb-err-context\">\n",
       "\n",
       "func main() {\n",
       "\tnums := [4]int{1, 2, 3, 4}\n",
       "<div class=\"gonb-err-line\">\tfmt.Println(nums[5]) // refuces to compile\n",
       "</div>\ti := 5\n",
       "\tfmt.Println(nums[i]) // panics at runtime\n",
       "\n",
       "</div>\n",
       "\n",
       "<br/>\n",
       "\n",
       "\n",
       "<span style=\"white-space: pre;\"> </span>\n",
       "\n",
       "<br/>\n",
       "\n",
       "</div>\n"
      ]
     },
     "metadata": {},
     "output_type": "display_data"
    },
    {
     "ename": "ERROR",
     "evalue": "failed to run \"/usr/local/bin/go build -o /var/folders/8_/d77_2z7s34jgk0rjpkzdj90r0000gn/T/gonb_36ee7f61/gonb_36ee7f61\": exit status 1",
     "output_type": "error",
     "traceback": [
      "failed to run \"/usr/local/bin/go build -o /var/folders/8_/d77_2z7s34jgk0rjpkzdj90r0000gn/T/gonb_36ee7f61/gonb_36ee7f61\": exit status 1"
     ]
    }
   ],
   "source": [
    "func main() {\n",
    "\tnums := [4]int{1, 2, 3, 4}\n",
    "\tfmt.Println(nums[5]) // refuces to compile\n",
    "\ti := 5\n",
    "\tfmt.Println(nums[i]) // panics at runtime\n",
    "}"
   ]
  },
  {
   "cell_type": "markdown",
   "id": "29990c71",
   "metadata": {},
   "source": [
    "*Array and Slice Types*\n",
    "- Arrays and slices can hold values of the type they were decleared to hold. Attempting to use a value of a different type will either result in a compile-time error or run-time panic.\n",
    "- Because arrays are of fixed length, the type definition for an array is comprised of both\n",
    "the declared length of the array and the type it will store. Example: `[3]string` for an array of 3 strings\n",
    "- Slices are not fixed length, so a slice’s type is comprised of just the type it will store. Example `[]string` for a slice of strings regardless of the length."
   ]
  },
  {
   "cell_type": "markdown",
   "id": "4bb1f369",
   "metadata": {},
   "source": [
    "*Setting Array and Slice values*\n",
    "- If we create 2 arrays of the same type and assign one to another, they would each still have their own space in memory. modifying one will not affect the other.\n",
    "- Unlike object-oriented languages, slices and arrays don’t have functions on them to allow\n",
    "you to append, remove, index, or otherwise manipulate the values in the array or slice.\n",
    "Instead, it is expected that those functions can be implemented by the end user. With the\n",
    "introduction of generics in Go 1.18, there is much more flexibility in how these functions\n",
    "can be implemented.\n",
    "- We can use the `append` function to append values to a slice. Ofcourse this method cannot work on arrays as they are fixed.\n"
   ]
  },
  {
   "cell_type": "code",
   "execution_count": 14,
   "id": "157fe4f1",
   "metadata": {},
   "outputs": [
    {
     "name": "stdout",
     "output_type": "stream",
     "text": [
      "[one second]\n",
      "[one two]\n"
     ]
    }
   ],
   "source": [
    "func main(){\n",
    "\ta1 := [2]string{\"one\", \"two\"}\n",
    "\ta2 := [2]string{}\n",
    "\n",
    "\ta2 = a1\n",
    "\ta1[1] = \"second\"\n",
    "\n",
    "\tfmt.Println(a1)\n",
    "\tfmt.Println(a2)\n",
    "}"
   ]
  },
  {
   "cell_type": "code",
   "execution_count": 25,
   "id": "7ae22850",
   "metadata": {},
   "outputs": [
    {
     "name": "stdout",
     "output_type": "stream",
     "text": [
      "[one two three four five six seven]\n"
     ]
    }
   ],
   "source": [
    "func main (){\n",
    "\tmySlice := []string{\"one\", \"two\", \"three\"}\n",
    "\tmySlice = append(mySlice, \"four\", \"five\")\n",
    "\n",
    "\t// Function in go accept variadic functions. Which means we can conveniently append values of one slice to another\n",
    "\ts2 := []string{\"six\", \"seven\"}\n",
    "\tmySlice = append(mySlice, s2...)\n",
    "\n",
    "\tfmt.Println(mySlice)\n",
    "}"
   ]
  },
  {
   "cell_type": "code",
   "execution_count": 26,
   "id": "c8666a5c",
   "metadata": {},
   "outputs": [
    {
     "name": "stdout",
     "output_type": "stream",
     "text": [
      "package builtin // import \"builtin\"\n",
      "\n",
      "func append(slice []Type, elems ...Type) []Type\n",
      "    The append built-in function appends elements to the end of a slice.\n",
      "    If it has sufficient capacity, the destination is resliced to accommodate\n",
      "    the new elements. If it does not, a new underlying array will be allocated.\n",
      "    Append returns the updated slice. It is therefore necessary to store the\n",
      "    result of append, often in the variable holding the slice itself:\n",
      "\n",
      "        slice = append(slice, elem1, elem2)\n",
      "        slice = append(slice, anotherSlice...)\n",
      "\n",
      "    As a special case, it is legal to append a string to a byte slice, like\n",
      "    this:\n",
      "\n",
      "        slice = append([]byte(\"hello \"), \"world\"...)\n",
      "\n"
     ]
    }
   ],
   "source": [
    "!go doc builtin.append"
   ]
  },
  {
   "cell_type": "markdown",
   "id": "0b34ff7e",
   "metadata": {},
   "source": [
    "### How Slices work"
   ]
  }
 ],
 "metadata": {
  "kernelspec": {
   "display_name": "Go (gonb)",
   "language": "go",
   "name": "gonb"
  },
  "language_info": {
   "codemirror_mode": "",
   "file_extension": ".go",
   "mimetype": "",
   "name": "go",
   "nbconvert_exporter": "",
   "pygments_lexer": "",
   "version": "go1.23.3"
  }
 },
 "nbformat": 4,
 "nbformat_minor": 5
}
