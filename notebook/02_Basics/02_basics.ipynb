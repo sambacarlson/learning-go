{
 "cells": [
  {
   "cell_type": "markdown",
   "metadata": {},
   "source": [
    "> Go is a *statically typed*, *garbage collected*, *compiled* language that is capable of producing highly concurrent, thread-safe programs that will scale as needed"
   ]
  },
  {
   "cell_type": "markdown",
   "metadata": {},
   "source": [
    "*Static typing* \n",
    "- Each statement is checked at compile time.\n",
    "- Data types are bound to variables (instead of to values as in dynamically typed languages like PHP) and must be defined when declaring variables"
   ]
  },
  {
   "cell_type": "markdown",
   "metadata": {},
   "source": [
    "*Garbage collection*\n",
    "- Developers don't need to explicitly allocate and deallocate memory for storing variables. Instead, developers use a garbage collector to monitor the program's memory usage.\n",
    "- The garbage collector periodically determine which memory is still in use and which is not, and releases the memory no longer being used by the program\n",
    "- A garbage collector makes it easier to write code but may have a performance cost; As you generate more memory usage(or \"garbage\"), the garbage collector need to spend time releasing that memory later. So, excessive garbage can lead to poorly performing programs."
   ]
  },
  {
   "cell_type": "markdown",
   "metadata": {},
   "source": [
    "*Compilation*\n",
    "- One of the original design goals behind the Go language was fast compile times.\n",
    "- The `go build` command is used to compile the source code.\n",
    "- Errors in the code such as mismatch types are caught at compile time. unlike interpreted languages that will continue to execute every line till it encounters the error and raises and exception."
   ]
  },
  {
   "cell_type": "markdown",
   "metadata": {},
   "source": [
    "**Keywords Operators and Delimiters**\n",
    "- keywords are reserved and cannot be used as an identifier.\n",
    "- Follow these links to find the list of [keywords](https://go.dev/ref/spec#Keywords), [operators](https://go.dev/ref/spec#Operators) and [assignment operators](https://go.dev/ref/spec#assign_op)"
   ]
  },
  {
   "cell_type": "markdown",
   "metadata": {},
   "source": [
    "### Numbers\n",
    "Go has two types of numeric types; \n",
    "- *Architecture-independent* type which means regardless of the architecture you compile for, the type will the correct size, bytes, for your type.\n",
    "- *Implementation-specific* type where the byte size of the numeric type can vary based on the architecture the program is built for.\n",
    "- Architecture independent numeric types include; `uint8`, `uint16`, `uint32`, `uint64`, `int8`, `int16`, `int32`, `int64`, `float32`, `float64`, `complex64`, `complex128`, `byte`, `rune`.\n",
    "- `byte` is alias for `uint8` and `rune` is alias for `int32`\n",
    "- Architecture implementation specific types include; `uint`, `int`, `uintptr`\n",
    "- size of `uint` will be 32 bits on 32-bit architecture and 64 bits on 64-bit architecture.\n",
    "- list of these types and their ranges can be found [here](https://go.dev/ref/spec#Numeric_types)"
   ]
  },
  {
   "cell_type": "markdown",
   "metadata": {},
   "source": [
    "Picking the correct type usually has more to do with performance for the target architecture you are programming for than the size of the data you are working with.\n",
    "- For integer data, it is common to use the implementation types like `int` and `uint`. This typically results in the fastest processing speed for your target architecture\n",
    "- If you know you wont exceed a specific size range, picking an architecture independent type can both increase speed and decrease memory usage."
   ]
  },
  {
   "cell_type": "markdown",
   "metadata": {},
   "source": [
    "*OverFlow & Wraparound* \\\n",
    "When performing mathematical calculations,  there is a potential to either \"overflow\" a number or \"wraparound\" a number.\n",
    "- At compile time, if the compiler can determine a value will be too large to hold in the data type specified, it will throw an overflow error, indicating that the value calculated to store is too large for the data type you specified.\n"
   ]
  },
  {
   "cell_type": "code",
   "execution_count": null,
   "metadata": {},
   "outputs": [],
   "source": [
    "// example of overflow\n",
    "\n",
    "package main\n",
    "\n",
    "import \"fmt\"\n",
    "\n",
    "func main () {\n",
    "\tvar maxUint uint8 = 260 // uint8's max value is 255\n",
    "\tfmt.Println(\"value: \", maxUint)\n",
    "}\n",
    "\n",
    "// this code will return an error at compile time"
   ]
  },
  {
   "cell_type": "code",
   "execution_count": null,
   "metadata": {},
   "outputs": [],
   "source": [
    "// example of wraparound\n",
    "\n",
    "package main\n",
    "\n",
    "import \"fmt\"\n",
    "\n",
    "func main () {\n",
    "  var maxInt uint8 = 255 // uint8's max value is 255\n",
    "  fmt.Println(\"value: \", maxInt+5)\n",
    "}\n",
    "\n",
    "// this code will compile successfully but the will print 4 instead of 260"
   ]
  },
  {
   "cell_type": "markdown",
   "metadata": {},
   "source": [
    "- Go does not saturate variable during mathematical operations such as addition or multiplication. In languages that saturate, if you have a uint8 with a max value of 255 and add 1, the value is still the max(saturated) value of 255. In Go however, it always wraps around.\n",
    "- Understanding the boundaries of your data helps you avoid potential bugs in your program in the future.\n",
    "- read more about saturation arithmetic on [wikipedia](https://en.wikipedia.org/wiki/Saturation_arithmetic)"
   ]
  },
  {
   "cell_type": "markdown",
   "metadata": {},
   "source": [
    "### Strings"
   ]
  },
  {
   "cell_type": "markdown",
   "metadata": {},
   "source": [
    "Go uses double quotes and backticks for strings. \\\n",
    "Backticks create raw string literals. Double quotes create interpreted string literals."
   ]
  },
  {
   "cell_type": "markdown",
   "metadata": {},
   "source": [
    "- Any characters except newline and an unescaped double quotes may appear within the quotes.\n",
    "- Backslashes (escape sequences) have no special meaning inside raw string literals.\n",
    "- Raw string literals are useful for creating multiline templates and mock JSON data for testing, etc"
   ]
  },
  {
   "cell_type": "markdown",
   "metadata": {},
   "source": [
    "### UTF-8\n",
    "Go supports UTF-8 characters out of the box. [more on utf-8 on wikipedia](https://en.wikipedia.org/wiki/UTF-8)"
   ]
  },
  {
   "cell_type": "code",
   "execution_count": null,
   "metadata": {},
   "outputs": [],
   "source": [
    "func main() {\n",
    "\ta := \"Hello, 世界\" // hello world (English + Chinese)\n",
    "\tfmt.Println(a)\n",
    "}"
   ]
  },
  {
   "cell_type": "markdown",
   "metadata": {},
   "source": [
    "### Runes\n",
    "- A `rune` is an alias for int32 and is used to represent single characters. \n",
    "- A rune can be made up of 1, 2 or 3 int32 values, allowing for both single and multi-byte characters.\n",
    "A rune can be defined using a single quote (') character"
   ]
  },
  {
   "cell_type": "code",
   "execution_count": null,
   "metadata": {},
   "outputs": [],
   "source": [
    "func main () {\n",
    "\ta := 'A'\n",
    "\n",
    "\tfmt.Printf(\"%v (%T)\\n\", a, a) // outputs value of a and type of a.\n",
    "}\n",
    "\n",
    "// when printed as a value, a rune will be printed as an int32 (which is the UTF-8 encoding of the character)"
   ]
  },
  {
   "cell_type": "markdown",
   "metadata": {},
   "source": [
    "**Iterating over UTF-8 characters**\n",
    "- When iterating over a string and trying to access individual characters, we may encounter issues with UTF-8 characters"
   ]
  },
  {
   "cell_type": "code",
   "execution_count": null,
   "metadata": {},
   "outputs": [],
   "source": [
    "func main () {\n",
    "\ta := \"Hello, 世界\" // 9 characters\n",
    "\tfor i := 0; i < len(a); i++ {\n",
    "\t\tfmt.Printf(\"%d: %s\\n\", i, string(a[i]))\n",
    "\t}\n",
    "}\n",
    "\n",
    "// the output is unpredictable when iterating over UTF-8 string of characters."
   ]
  },
  {
   "cell_type": "markdown",
   "metadata": {},
   "source": [
    "Notice  that the unexpected characters in the output of the above code are printed for index 7-12. This is because multiple int32s make up the rune for the chinese characters but we are only taking part of it. \\\n",
    "In simpler terms; \\\n",
    "The issue is that the string contains both ASCII and UTF-8 characters. ASCII characters are represented by 1 byte each in Go. UTF-8 characters, on the other hand, are represented by multiple bytes (e.g., 3 bytes for Chinese characters like 世 or 界).\n",
    "The len() function in the for loop simply counts the number of bytes, in the argument passed to it. This means the loop breaks the string into 1-byte pieces, regardless of whether the character is ASCII or UTF-8.\n",
    "The string() function, much like len(), tries to interpret each byte individually as a single character (a 32-bit rune). This works fine for 1-byte ASCII characters, but it cannot correctly interpret UTF-8 characters because they are split into their individual bytes. As a result, the Chinese characters are broken into 3 invalid pieces each and printed as unexpected or garbled characters."
   ]
  },
  {
   "cell_type": "markdown",
   "metadata": {},
   "source": [
    "When iterating through each character in a string in Go, the proper way is to use the range keyword in the loop;"
   ]
  },
  {
   "cell_type": "code",
   "execution_count": null,
   "metadata": {},
   "outputs": [],
   "source": [
    "func main () {\n",
    "\ta := \"Hello, 世界\" // 9 characters\n",
    "  for i, c := range a {\n",
    "    fmt.Printf(\"%d: %s \\n\", i, string(c))\n",
    "  }\n",
    "}\n",
    "\n",
    "// the range keyword ensures that we use the proper index and length of int32s to capture the proper rune value"
   ]
  },
  {
   "cell_type": "markdown",
   "metadata": {},
   "source": [
    "### Variables\n",
    "- declaration: `var <name> <type>`\n",
    "  - `var i int`\n",
    "  - `var b bool`\n",
    "- assignment: `<name> = <value>`\n",
    "  - `i = 26`\n",
    "  - `b = false`\n",
    "\n",
    "**Zero Values**\n",
    "- Variables when declared without values, assume a zero value of the same type as the variable. Complex types such as a `struct` have a zero value that is composed of the type's individual fields' zero values. \n",
    "- Certain types in Go such as maps, interfaces and pointers have no obvious zero values, hence their zero values is `nil`."
   ]
  },
  {
   "cell_type": "markdown",
   "metadata": {},
   "source": [
    "// zero value cheatsheet\n",
    "\n",
    "```go\n",
    "  var s string // \"\"\n",
    "  var r rune // 0\n",
    "  var bt byte // 0\n",
    "  var i int // 0\n",
    "  var ui uint // 0\n",
    "  var c complex64 // 0\n",
    "  var b bool // false\n",
    "  var arr [2]int // [0 0]\n",
    "  var obj struct {\n",
    "    b bool\n",
    "    arr [2]int\n",
    "  } // {false [0 0]}\n",
    "  var si []int // nil\n",
    "  var ch chan string // nil\n",
    "  var mp map[int]string // nil\n",
    "  var fn func() // nil\n",
    "  var ptr *string // nil\n",
    "  var all any // nil\n",
    "```"
   ]
  },
  {
   "cell_type": "markdown",
   "metadata": {},
   "source": [
    "- When declaring a variable, we often want to initialize it with a value; `var f float64 = 3.14`\n",
    "- When initializing a variable at declaration time,  we can use the `:=` operator; `i := 42`\n",
    "- When using the `:=` operator, go infers the type of the variable from the value it is being assigned.\n",
    "- For most types, inferring the type is no trouble. For numbers, the compiler has to guess the type, and by default, assumes that the variable is of type int or float64 (if there is a decimal point in it)\n",
    "- If for numbers you desire some other type other that int or float64,  use the `var <name> <type> [= <value>]` to declare the variable or use variable casting like so; `i := uint32(42)`, `f := float32(3.14)`"
   ]
  },
  {
   "cell_type": "markdown",
   "metadata": {},
   "source": [
    "Assigning multiple values"
   ]
  }
 ],
 "metadata": {
  "kernelspec": {
   "display_name": "Go (gonb)",
   "language": "go",
   "name": "gonb"
  },
  "language_info": {
   "codemirror_mode": "",
   "file_extension": ".go",
   "mimetype": "",
   "name": "go",
   "nbconvert_exporter": "",
   "pygments_lexer": "",
   "version": "go1.23.3"
  }
 },
 "nbformat": 4,
 "nbformat_minor": 2
}
