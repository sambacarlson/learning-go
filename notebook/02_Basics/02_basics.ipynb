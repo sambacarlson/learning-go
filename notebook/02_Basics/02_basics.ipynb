{
 "cells": [
  {
   "cell_type": "markdown",
   "metadata": {},
   "source": [
    "> Go is a *statically typed*, *garbage collected*, *compiled* language that is capable of producing highly concurrent, thread-safe programs that will scale as needed"
   ]
  },
  {
   "cell_type": "markdown",
   "metadata": {},
   "source": [
    "*Static typing* \n",
    "- Each statement is checked at compile time.\n",
    "- Data types are bound to variables (instead of to values as in dynamically typed languages like PHP) and must be defined when declaring variables"
   ]
  },
  {
   "cell_type": "markdown",
   "metadata": {},
   "source": [
    "*Garbage collection*\n",
    "- Developers don't need to explicitly allocate and deallocate memory for storing variables. Instead, developers use a garbage collector to monitor the program's memory usage.\n",
    "- The garbage collector periodically determine which memory is still in use and which is not, and releases the memory no longer being used by the program\n",
    "- A garbage collector makes it easier to write code but may have a performance cost; As you generate more memory usage(or \"garbage\"), the garbage collector need to spend time releasing that memory later. So, excessive garbage can lead to poorly performing programs."
   ]
  },
  {
   "cell_type": "markdown",
   "metadata": {},
   "source": [
    "*Compilation*\n",
    "- One of the original design goals behind the Go language was fast compile times.\n",
    "- The `go build` command is used to compile the source code.\n",
    "- Errors in the code such as mismatch types are caught at compile time. unlike interpreted languages that will continue to execute every line till it encounters the error and raises and exception."
   ]
  },
  {
   "cell_type": "markdown",
   "metadata": {},
   "source": [
    "**Keywords Operators and Delimiters**\n",
    "- keywords are reserved and cannot be used as an identifier.\n",
    "- Follow these links to find the list of [keywords](https://go.dev/ref/spec#Keywords), [operators](https://go.dev/ref/spec#Operators) and [assignment operators](https://go.dev/ref/spec#assign_op)"
   ]
  },
  {
   "cell_type": "markdown",
   "metadata": {},
   "source": [
    "### Numbers\n",
    "Go has two types of numeric types; \n",
    "- *Architecture-independent* type which means regardless of the architecture you compile for, the type will the correct size, bytes, for your type.\n",
    "- *Implementation-specific* type where the byte size of the numeric type can vary based on the architecture the program is built for.\n",
    "- Architecture independent numeric types include; `uint8`, `uint16`, `uint32`, `uint64`, `int8`, `int16`, `int32`, `int64`, `float32`, `float64`, `complex64`, `complex128`, `byte`, `rune`.\n",
    "- `byte` is alias for `uint8` and `rune` is alias for `int32`\n",
    "- Architecture implementation specific types include; `uint`, `int`, `uintptr`\n",
    "- size of `uint` will be 32 bits on 32-bit architecture and 64 bits on 64-bit architecture.\n",
    "- list of these types and their ranges can be found [here](https://go.dev/ref/spec#Numeric_types)"
   ]
  },
  {
   "cell_type": "markdown",
   "metadata": {},
   "source": [
    "Picking the correct type usually has more to do with performance for the target architecture you are programming for than the size of the data you are working with.\n",
    "- For integer data, it is common to use the implementation types like `int` and `uint`. This typically results in the fastest processing speed for your target architecture\n",
    "- If you know you wont exceed a specific size range, picking an architecture independent type can both increase speed and decrease memory usage."
   ]
  },
  {
   "cell_type": "markdown",
   "metadata": {},
   "source": [
    "*OverFlow & Wraparound* \\\n",
    "When performing mathematical calculations,  there is a potential to either \"overflow\" a number or \"wraparound\" a number.\n",
    "- At compile time, if the compiler can determine a value will be too large to hold in the data type specified, it will throw an overflow error, indicating that the value calculated to store is too large for the data type you specified.\n"
   ]
  },
  {
   "cell_type": "code",
   "execution_count": null,
   "metadata": {},
   "outputs": [],
   "source": [
    "// example of overflow\n",
    "\n",
    "package main\n",
    "\n",
    "import \"fmt\"\n",
    "\n",
    "func main () {\n",
    "\tvar maxUint uint8 = 260 // uint8's max value is 255\n",
    "\tfmt.Println(\"value: \", maxUint)\n",
    "}\n",
    "\n",
    "// this code will return an error at compile time"
   ]
  },
  {
   "cell_type": "code",
   "execution_count": null,
   "metadata": {},
   "outputs": [],
   "source": [
    "// example of wraparound\n",
    "\n",
    "package main\n",
    "\n",
    "import \"fmt\"\n",
    "\n",
    "func main () {\n",
    "  var maxInt uint8 = 255 // uint8's max value is 255\n",
    "  fmt.Println(\"value: \", maxInt+5)\n",
    "}\n",
    "\n",
    "// this code will compile successfully but the will print 4 instead of 260"
   ]
  },
  {
   "cell_type": "markdown",
   "metadata": {},
   "source": [
    "- Go does not saturate variable during mathematical operations such as addition or multiplication. In languages that saturate, if you have a uint8 with a max value of 255 and add 1, the value is still the max(saturated) value of 255. In Go however, it always wraps around.\n",
    "- Understanding the boundaries of your data helps you avoid potential bugs in your program in the future.\n",
    "- read more about saturation arithmetic on [wikipedia](https://en.wikipedia.org/wiki/Saturation_arithmetic)"
   ]
  },
  {
   "cell_type": "markdown",
   "metadata": {},
   "source": [
    "### Strings"
   ]
  },
  {
   "cell_type": "markdown",
   "metadata": {},
   "source": [
    "Go uses double quotes and backticks for strings. \\\n",
    "Backticks create raw string literals. Double quotes create interpreted string literals."
   ]
  },
  {
   "cell_type": "markdown",
   "metadata": {},
   "source": [
    "- Any characters except newline and an unescaped double quotes may appear within the quotes.\n",
    "- Backslashes (escape sequences) have no special meaning inside raw string literals.\n",
    "- Raw string literals are useful for creating multiline templates and mock JSON data for testing, etc"
   ]
  },
  {
   "cell_type": "markdown",
   "metadata": {},
   "source": [
    "### UTF-8\n",
    "Go supports UTF-8 characters out of the box. [more on utf-8 on wikipedia](https://en.wikipedia.org/wiki/UTF-8)"
   ]
  },
  {
   "cell_type": "code",
   "execution_count": null,
   "metadata": {},
   "outputs": [],
   "source": [
    "func main() {\n",
    "\ta := \"Hello, 世界\" // hello world (English + Chinese)\n",
    "\tfmt.Println(a)\n",
    "}"
   ]
  },
  {
   "cell_type": "markdown",
   "metadata": {},
   "source": [
    "### Runes\n",
    "- A `rune` is an alias for int32 and is used to represent single characters. \n",
    "- A rune can be made up of 1, 2 or 3 int32 values, allowing for both single and multi-byte characters.\n",
    "A rune can be defined using a single quote (') character"
   ]
  },
  {
   "cell_type": "code",
   "execution_count": null,
   "metadata": {},
   "outputs": [],
   "source": [
    "func main () {\n",
    "\ta := 'A'\n",
    "\n",
    "\tfmt.Printf(\"%v (%T)\\n\", a, a) // outputs value of a and type of a.\n",
    "}\n",
    "\n",
    "// when printed as a value, a rune will be printed as an int32 (which is the UTF-8 encoding of the character)"
   ]
  },
  {
   "cell_type": "markdown",
   "metadata": {},
   "source": [
    "**Iterating over UTF-8 characters**\n",
    "- When iterating over a string and trying to access individual characters, we may encounter issues with UTF-8 characters"
   ]
  },
  {
   "cell_type": "code",
   "execution_count": null,
   "metadata": {},
   "outputs": [],
   "source": [
    "func main () {\n",
    "\ta := \"Hello, 世界\" // 9 characters\n",
    "\tfor i := 0; i < len(a); i++ {\n",
    "\t\tfmt.Printf(\"%d: %s\\n\", i, string(a[i]))\n",
    "\t}\n",
    "}\n",
    "\n",
    "// the output is unpredictable when iterating over UTF-8 string of characters."
   ]
  },
  {
   "cell_type": "markdown",
   "metadata": {},
   "source": [
    "Notice  that the unexpected characters in the output of the above code are printed for index 7-12. This is because multiple int32s make up the rune for the chinese characters but we are only taking part of it. \\\n",
    "In simpler terms; \\\n",
    "The issue is that the string contains both ASCII and UTF-8 characters. ASCII characters are represented by 1 byte each in Go. UTF-8 characters, on the other hand, are represented by multiple bytes (e.g., 3 bytes for Chinese characters like 世 or 界).\n",
    "The len() function in the for loop simply counts the number of bytes, in the argument passed to it. This means the loop breaks the string into 1-byte pieces, regardless of whether the character is ASCII or UTF-8.\n",
    "The string() function, much like len(), tries to interpret each byte individually as a single character (a 32-bit rune). This works fine for 1-byte ASCII characters, but it cannot correctly interpret UTF-8 characters because they are split into their individual bytes. As a result, the Chinese characters are broken into 3 invalid pieces each and printed as unexpected or garbled characters."
   ]
  },
  {
   "cell_type": "markdown",
   "metadata": {},
   "source": [
    "When iterating through each character in a string in Go, the proper way is to use the range keyword in the loop;"
   ]
  },
  {
   "cell_type": "code",
   "execution_count": null,
   "metadata": {},
   "outputs": [],
   "source": [
    "func main () {\n",
    "\ta := \"Hello, 世界\" // 9 characters\n",
    "  for i, c := range a {\n",
    "    fmt.Printf(\"%d: %s \\n\", i, string(c))\n",
    "  }\n",
    "}\n",
    "\n",
    "// the range keyword ensures that we use the proper index and length of int32s to capture the proper rune value"
   ]
  },
  {
   "cell_type": "markdown",
   "metadata": {},
   "source": [
    "### Variables\n",
    "- declaration: `var <name> <type>`\n",
    "  - `var i int`\n",
    "  - `var b bool`\n",
    "- assignment: `<name> = <value>`\n",
    "  - `i = 26`\n",
    "  - `b = false`\n",
    "\n",
    "**Zero Values**\n",
    "- Variables when declared without values, assume a zero value of the same type as the variable. Complex types such as a `struct` have a zero value that is composed of the type's individual fields' zero values. \n",
    "- Certain types in Go such as maps, interfaces and pointers have no obvious zero values, hence their zero values is `nil`."
   ]
  },
  {
   "cell_type": "markdown",
   "metadata": {},
   "source": [
    "// zero value cheatsheet\n",
    "\n",
    "```go\n",
    "  var s string // \"\"\n",
    "  var r rune // 0\n",
    "  var bt byte // 0\n",
    "  var i int // 0\n",
    "  var ui uint // 0\n",
    "  var c complex64 // 0\n",
    "  var b bool // false\n",
    "  var arr [2]int // [0 0]\n",
    "  var obj struct {\n",
    "    b bool\n",
    "    arr [2]int\n",
    "  } // {false [0 0]}\n",
    "  var si []int // nil\n",
    "  var ch chan string // nil\n",
    "  var mp map[int]string // nil\n",
    "  var fn func() // nil\n",
    "  var ptr *string // nil\n",
    "  var all any // nil\n",
    "```"
   ]
  },
  {
   "cell_type": "markdown",
   "metadata": {},
   "source": [
    "- When declaring a variable, we often want to initialize it with a value; `var f float64 = 3.14`\n",
    "- When initializing a variable at declaration time,  we can use the `:=` operator; `i := 42`\n",
    "- When using the `:=` operator, go infers the type of the variable from the value it is being assigned.\n",
    "- For most types, inferring the type is no trouble. For numbers, the compiler has to guess the type, and by default, assumes that the variable is of type int or float64 (if there is a decimal point in it)\n",
    "- If for numbers you desire some other type other that int or float64,  use the `var <name> <type> [= <value>]` to declare the variable or use variable casting like so; `i := uint32(42)`, `f := float32(3.14)`"
   ]
  },
  {
   "cell_type": "markdown",
   "metadata": {},
   "source": [
    "Go allows you to assign values to multiple variables in one line. this approach is mostly used for  capturing the result of a function call that returns multiple values\n",
    "```go\n",
    "func main() {\n",
    "  x, y, z := \"Some text\", 3.14, 34\n",
    "  // notice that different data types can be assigned on a single line without any issues.\n",
    "}\n",
    "```\n",
    "While using this very useful technique, remember that code readability must not be sacrificed for fewer lines of code."
   ]
  },
  {
   "cell_type": "markdown",
   "metadata": {},
   "source": [
    "- In Go, unused variables, and imports are not allowed. Also, all returned values from a function must be captured.\n",
    "- Discard variables not needed by identifying them with the blank identifier _ (underscore) \\\n",
    "Let's see more clearly; If `MyFunction()` returns 3 variables, we must capture all of them\n",
    "```go\n",
    "func main () {\n",
    "  a, b, c := MyFunction() // capturing 3 variables returned by MyFunction.\n",
    "  // If we need just he 3rd value, we can use the blank identifier to clear off the first 2 like so;\n",
    "  _, _, z := MyFunction() // Now the compiler will discard the first 2 returned values.\n",
    "}\n",
    "```\n"
   ]
  },
  {
   "cell_type": "markdown",
   "metadata": {},
   "source": [
    "### Constants"
   ]
  },
  {
   "cell_type": "markdown",
   "metadata": {},
   "source": [
    "- Constants in Go can only be a character, string, boolean or numeric value.\n",
    "- We use the `const` keyword to define variables; `const myVar = 23.2`\n",
    "- Values that can be modified such as maps and slices cannot be constants, and neither can the result of a function call."
   ]
  },
  {
   "cell_type": "code",
   "execution_count": null,
   "metadata": {},
   "outputs": [],
   "source": [
    "func main() {\n",
    "\tconst gopher = func()string{\n",
    "\t\treturn \"Gopher\"\n",
    "\t}() // results in compile-time error\n",
    "\n",
    "\tconst names = []string {\"Amie\", \"Carlos\", \"Ndzi\"} // results in compile-time error\n",
    "}"
   ]
  },
  {
   "cell_type": "markdown",
   "metadata": {},
   "source": [
    "**Typed Constants**\n",
    "- If a contant is decleared with a type, it will be that exact type. It can therefore only operate with values of that type. "
   ]
  },
  {
   "cell_type": "code",
   "execution_count": null,
   "metadata": {},
   "outputs": [],
   "source": [
    "import \"fmt\"\n",
    "\n",
    "const (\n",
    "\tleapYear = int32(366)\n",
    ")\n",
    "func main(){\n",
    "\thour := 24\n",
    "\tfmt.Println(hour * leapYear) // cannot operate int with int32\n",
    "}"
   ]
  },
  {
   "cell_type": "markdown",
   "metadata": {},
   "source": [
    "**Untyped Constants (Inferred typing)**\n",
    "- Constants can be `untyped`, meaning it inferred it's type from value assigned to it. This can be useful when working with with numbers such as integers.\n",
    "- Untyped contants are explicitly converted. Typed constants are not. Example below makes it clear;"
   ]
  },
  {
   "cell_type": "code",
   "execution_count": null,
   "metadata": {},
   "outputs": [],
   "source": [
    "const (\n",
    "\tyear = 365 //untyped\n",
    "\tleapYear = int32(366) //typed\n",
    ")\n",
    "\n",
    "func main(){\n",
    "\thours := 24\n",
    "\tminutes := int32(60)\n",
    "\n",
    "\tfmt.Println(hours * year) //int * untyped\n",
    "\tfmt.Println(minutes * year) //int32 * untyped\n",
    "\tfmt.Println(minutes * leapYear) //int32 * int32\n",
    "}"
   ]
  },
  {
   "cell_type": "markdown",
   "metadata": {},
   "source": [
    "**Type Inference**\n",
    "- Remember that untyped constants and variables will be converted to the type it is combined with for any operation for that type. In other terms, both untyped variables and contants assume the most suitable types for current operation."
   ]
  },
  {
   "cell_type": "markdown",
   "metadata": {},
   "source": [
    "### Naming Identifiers"
   ]
  },
  {
   "cell_type": "markdown",
   "metadata": {},
   "source": [
    "Idetifier names have the following rules;\n",
    "- They are case sensitive\n",
    "- They cannot be reserved words\n",
    "- Can only be made of letters, numbers and underscores\n",
    "- They cannot begin with a number."
   ]
  },
  {
   "cell_type": "markdown",
   "metadata": {},
   "source": [
    "**Naming Style**\n",
    "- The most important thing with style is consistency and acceptance in a team.\n",
    "- It is common in Go to use very terse (or short) variable names. Given the choice\n",
    "between using userName and user for a variable, it would be idiomatic to choose user.\n",
    "- Scope also plays a role in the terseness of the variable name. The rule is that the smaller\n",
    "the scope the variable exists in, the smaller the variable name.\n",
    "- Examples of conventional<->unconventional identifier names: `userName`<->`user_name` (prefers PascalCase/camelCase), `i`<->`index`(prefers shorter names depending on scope), `serverHTTP`<->`serverHttp` (prefers capitalizing acronyms) "
   ]
  },
  {
   "cell_type": "markdown",
   "metadata": {},
   "source": [
    "- Go allows identifier names to conflict with package names. However, from point in the file where the variable is declared, the package with the same name is no longer accessible. The best way to resolve this is to rename the variable. Ofcourse you can also use import alias for the package."
   ]
  },
  {
   "cell_type": "markdown",
   "metadata": {},
   "source": [
    "**Eporting through capitalization** \\\n",
    "If an identifier name begins with a capital letter, it is exported (made available outside the package is it declared in). Identifiers that start with lower case letters are not exported."
   ]
  },
  {
   "cell_type": "markdown",
   "metadata": {},
   "source": [
    "### Printing and Formatting\n",
    "The fmt package provides a number of functions for printing and formatting in Go. The style is similar to c-progamming but easier. \\\n"
   ]
  },
  {
   "cell_type": "code",
   "execution_count": null,
   "metadata": {},
   "outputs": [],
   "source": [
    "! go doc fmt"
   ]
  },
  {
   "cell_type": "markdown",
   "metadata": {},
   "source": [
    "The fmt documentation show many identical functions. The core of these functions is to generate formatted strings based on user input. Lets address a few.\n",
    "- Functions that start with `Sprint` all return formatted strings\n",
    "- Functions that start with `Print` all print formatted strings on the standard ouput\n",
    "- Functions that start with `Fprint` all print formatted strings on the provided io.Writter. (`go doc fmt.Fprint` for more info)"
   ]
  },
  {
   "cell_type": "markdown",
   "metadata": {},
   "source": [
    "- Most fmt's Printing and Sprinting functions do not add new lines to the end of the string. For example, you can see results from 2 Print functions on the same line. New lines can be added with the `\\n` escape sequence.\n",
    "- The `Println` function automatically adds a new line.\n",
    "- Multiple arguments can be passed (separated by commas)\n",
    "- All foratting functions ending in `f`(such as `fmt.Sprintf`) allows for the use of formatting verbs. Verbs create different styles of formatting and are usually preceeded by either `%` or `\\` \n",
    "- Formatting verbs begin with a `%` character. Escape sequences begin with a `\\` character.\n",
    "- There may be times that you want to use those characters as themselves in the formatted string. To do this, each character needs to be escaped by repeating itself."
   ]
  },
  {
   "cell_type": "markdown",
   "metadata": {},
   "source": [
    "**Formatting strings**\n",
    "- The most common verbs for string formatting are `%s` and `%q`. The former print the string as it is while the later also prints the string as it is but with quotes around it. \\\n",
    "**Formatting integers**\n",
    "- All integer-based types (int, int32, int64, ...) abide to the same formatting rules. The verb `%d` is used to print integers. `%+d` prints the integer with a sign(negative numbers will always show their sign regardless.) \\\n",
    "**Integer padding**\n",
    "- The `%d` verb can be modified to add padding either to the right or left of the integer to print. In either case, the padding is considered a minimum padding. So, if the number is larger than the minimum padding, it is not padded.\n",
    "- The width of the padding is declared by using an integer in front of the `d` in the verb. \\\n",
    "**Formatting floats** \n",
    "- Use `%f` verb\n",
    "- Number of decimal places can be specified like so; `%.2f` to specify 2 decimal places and so on\n"
   ]
  },
  {
   "cell_type": "code",
   "execution_count": null,
   "metadata": {},
   "outputs": [],
   "source": [
    "// Examples\n",
    "func main(){\n",
    "\tfmt.Printf(\"%q \\n\", \"quoted string\")\n",
    "\tfmt.Printf(\"Singed integer: %+d \\n\", +2334)\n",
    "\tfmt.Printf(\"padded with 5 spaces %5d \\n\", 123)\n",
    "\tfmt.Printf(\"padded with 5 zeros %05d \\n\", 123)\n",
    "\tfmt.Printf(\"padded to the right with 5 spaces %-5d \\n\", 123)\n",
    "\tfmt.Printf(\"3 decimal places: %.3f \\n\", 23.234325)\n",
    "}"
   ]
  },
  {
   "cell_type": "markdown",
   "metadata": {},
   "source": [
    "- `%T` prints the type of the value\n",
    "- `%v` prints the value of the variable\n",
    "- `%+v` prints more information about the variable if possible. For example, printing a struct with `%v` will print only the field values whereas `%+v` will print the field names and values.\n",
    "- `%#v` prints the value in native Go-syntax format."
   ]
  },
  {
   "cell_type": "code",
   "execution_count": null,
   "metadata": {},
   "outputs": [],
   "source": [
    "package main\n",
    "\n",
    "import \"fmt\"\n",
    "\n",
    "type User struct {\n",
    "\tName string\n",
    "\tAge int\n",
    "}\n",
    "\n",
    "func main(){\n",
    "\tu := User{\n",
    "\t\tName: \"Kimbi\",\n",
    "\t\tAge: 20,\n",
    "\t}\n",
    "\n",
    "\tfmt.Printf(\"type of u: %T \\n\", u)\n",
    "\tfmt.Printf(\"value of u: %v \\n\", u)\n",
    "\tfmt.Printf(\"details of u: %+v \\n\", u)\n",
    "\tfmt.Printf(\"go-syntax represenation of u: %#v \\n\", u)\n",
    "}"
   ]
  },
  {
   "cell_type": "markdown",
   "metadata": {},
   "source": [
    "- When you use a formatting verb incorrectly, such as trying to format a string with a %d\n",
    "verb, there will be no error to respond to. Instead, Go prints error information into the\n",
    "formatted string.\n",
    "- To avoid using the wrong verbs, and other issues, you should always run `go vet` on\n",
    "your code"
   ]
  },
  {
   "cell_type": "markdown",
   "metadata": {},
   "source": [
    "**Explicit Augmented Indexes** \\\n",
    "The default behaviour of fmt's functions is for each formatting verb to format successive arguments passed into the call. However, you can use `[N]` to specify which argument to use. See example below. \\\n",
    "This specification also allows you to use the same variable multiple times."
   ]
  },
  {
   "cell_type": "code",
   "execution_count": null,
   "metadata": {},
   "outputs": [],
   "source": [
    "func main() {\n",
    "\tfmt.Printf(\"in succession: %s, %s, %s \\n\", \"one\", \"two\", \"three\")\n",
    "\tfmt.Printf(\"specifying arguments: %[2]s, %[1]s \\n\", \"one\", \"two\")\n",
    "\tfmt.Printf(\"repeated: %[1]s, %[1]s \\n\", \"one\")\n",
    "}"
   ]
  },
  {
   "cell_type": "markdown",
   "metadata": {},
   "source": [
    "### Converting strings to and from numbers\n",
    "- The `strconv` package has methods to explicitly allow conversion between strings and numbers.\n",
    "- The most common strconv methods are `ParseInt`, `ParseUint`, `ParseFloat` and `Atoi`\n",
    "- Methods like ParseInt requires as parameter, a the base we will be using and the bit size being expected from the input. The default values of 0 and  64 respectively are good enough for most use cases. Check the docs for strconv and it's methods `go doc strconv`, `go doc strconv.ParseUint`"
   ]
  },
  {
   "cell_type": "code",
   "execution_count": null,
   "metadata": {},
   "outputs": [],
   "source": [
    "package main\n",
    "\n",
    "import (\n",
    "\t\"fmt\"\n",
    "\t\"strconv\"\n",
    "\t\"log\"\n",
    ")\n",
    "\n",
    "func main(){\n",
    "\t// string to integer\n",
    "\ti, err := strconv.ParseInt(\"-42\", 0, 64)\n",
    "\tif err != nil {\n",
    "\t\tlog.Fatal(err)\n",
    "\t}\n",
    "\tfmt.Printf(\"str: '-42' --> int: %d \\n\", i)\n",
    "\t\n",
    "\t// parsing a float\n",
    "\tj, err := strconv.ParseFloat(\"43.234\", 64)\n",
    "\tif err != nil {\n",
    "\t\tlog.Fatal(err)\n",
    "\t}\n",
    "\tfmt.Printf(\"str: '43.234' --> int: %f \\n\", j)\n",
    "}\n"
   ]
  },
  {
   "cell_type": "code",
   "execution_count": null,
   "metadata": {},
   "outputs": [],
   "source": []
  }
 ],
 "metadata": {
  "kernelspec": {
   "display_name": "Go (gonb)",
   "language": "go",
   "name": "gonb"
  },
  "language_info": {
   "codemirror_mode": "",
   "file_extension": ".go",
   "mimetype": "",
   "name": "go",
   "nbconvert_exporter": "",
   "pygments_lexer": "",
   "version": "go1.23.3"
  }
 },
 "nbformat": 4,
 "nbformat_minor": 2
}
