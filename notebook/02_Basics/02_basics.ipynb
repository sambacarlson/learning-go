{
 "cells": [
  {
   "cell_type": "markdown",
   "metadata": {},
   "source": [
    "> Go is a *statically typed*, *garbage collected*, *compiled* language that is capable of producing highly concurrent, thread-safe programs that will scale as needed"
   ]
  },
  {
   "cell_type": "markdown",
   "metadata": {},
   "source": [
    "*Static typing* \n",
    "- Each statement is checked at compile time.\n",
    "- Data types are bound to variables (instead of to values as in dynamically typed languages like PHP) and must be defifned when declaring variables"
   ]
  },
  {
   "cell_type": "markdown",
   "metadata": {},
   "source": [
    "*Garbage collection*\n",
    "- developers don't need to explicitly allocate and deallocate memory for storing variables. Instead, developers user a garbage collector to monitor the program's memory usage.\n",
    "- The garbage collector periodically determine which memory is still in use and which is not, and releases the memory no longer being used by the program\n",
    "- A garbage collector makes it easier to write code but may have a performance cost; As you generte more memory usage(or \"garbage\"), the garbage collector need to spend time releasing that memory later. So, excessive garbage can lead to poorly performing programs."
   ]
  },
  {
   "cell_type": "markdown",
   "metadata": {},
   "source": [
    "*Compilation*\n",
    "- One of the original design goals behind the Go language was fast compile times.\n",
    "- The `go build` command is used to compile the source code.\n",
    "- Errors in the code such as mismatch types are caught at compile time. unlike interpreted languages that will continue to execute every line till it encounters the error and raises and exception."
   ]
  },
  {
   "cell_type": "markdown",
   "metadata": {},
   "source": [
    "**Keywords Operators and Delimeters**\n",
    "- keywoards are reserved and cannot be used as an identifier.\n",
    "- Follow these links to find the list of [keywords](https://go.dev/ref/spec#Keywords), [operators](https://go.dev/ref/spec#Operators) and [assignment operators](https://go.dev/ref/spec#assign_op)"
   ]
  },
  {
   "cell_type": "markdown",
   "metadata": {},
   "source": [
    "### Numbers\n",
    "Go has two types of numeric types; \n",
    "- *Architecture-independent* type which means regardless of the architecture you compile for, the type will the correct size, bytes, for your type.\n",
    "- *Implemenation-specific* type where the byte size of the numeric type can vary based on the architecture the program is built for.\n",
    "- Architecture independent numeric types include; `uint8`, `uint16`, `uint32`, `uint64`, `int8`, `int16`, `int32`, `int64`, `float32`, `float64`, `complex64`, `complex128`, `byte`, `rune`.\n",
    "- `byte` is alias for `uint8` and `rune` is alias for `int32`\n",
    "- Architecture implementation specific types include; `uint`, `int`, `uintptr`\n",
    "- size of `uint` will be 32 bits on 32-bit architecture and 64 bits on 64-bit architecture.\n",
    "- list of these types and their ranges can be found [here](https://go.dev/ref/spec#Numeric_types)"
   ]
  },
  {
   "cell_type": "markdown",
   "metadata": {},
   "source": [
    "Picking the correct type usually has more to do with performance for the target architecture you are programing for than the size of the data you are working with.\n",
    "- For integer data, it is common to use the implementation types like `int` and `uint`. This typically results in the fastest processing speed for your target architecture\n",
    "- If you know you wont exceed a specific size range, piecking an architecture independent type can both increase speed and decrease memory usage."
   ]
  },
  {
   "cell_type": "markdown",
   "metadata": {},
   "source": [
    "*OverFlow & Wraparound* \\\n",
    "When performing mathematical calculations,  there is a potential to either \"overflow\" a number or \"wraparound\" a number.\n",
    "- At compile time, if the compiler can determine a value will be too large to hold in the data type specified, it will throw an overflow error, indicating that the value calculated to store is too large for the data type you specified.\n"
   ]
  },
  {
   "cell_type": "code",
   "execution_count": 11,
   "metadata": {},
   "outputs": [
    {
     "data": {
      "text/html": [
       "\n",
       "<style>\n",
       ".gonb-err-location {\n",
       "\tbackground: var(--jp-err-color2);  \n",
       "\tborder-radius: 3px;\n",
       "\tborder-style: dotted;\n",
       "\tborder-width: 1px;\n",
       "\tborder-color: var(--jp-border-color2);\n",
       "}\n",
       ".gonb-err-location:hover {\n",
       "\tborder-width: 2px;\n",
       "\tborder-style: solid;\n",
       "\tborder-color: var(--jp-border-color2);\n",
       "}\n",
       ".gonb-err-context {\n",
       "\tdisplay: none;\n",
       "}\n",
       ".gonb-err-location:hover + .gonb-err-context {\n",
       "\tbackground: var(--jp-dialog-background);  \n",
       "\tborder-radius: 3px;\n",
       "\tborder-style: solid;\n",
       "\tborder-width: 1px;\n",
       "\tborder-color: var(--jp-border-color2);\n",
       "\tdisplay: block;\n",
       "\twhite-space: pre;\n",
       "\tfont-family: monospace;\n",
       "}\n",
       ".gonb-err-line {\n",
       "\tborder-radius: 3px;\n",
       "\tborder-style: dotted;\n",
       "\tborder-width: 1px;\t\n",
       "\tborder-color: var(--jp-border-color2);\n",
       "\tbackground-color: var(--jp-rendermime-err-background);\n",
       "\tfont-weight: bold;\n",
       "}\n",
       ".gonb-cell-line-info {\n",
       "\tbackground: var(--jp-layout-color2);\n",
       "\tcolor: #999;\n",
       "\tmargin: 0.1em;\n",
       "\tborder: 1px solid var(--jp-border-color1);\n",
       "\tpadding-left: 0.2em;\n",
       "\tpadding-right: 0.2em;\n",
       "}\n",
       "</style>\n",
       "<div class=\"lm-Widget p-Widget lm-Panel p-Panel jp-OutputArea-child\">\n",
       "<div class=\"lm-Widget p-Widget jp-RenderedText jp-mod-trusted jp-OutputArea-output\" data-mime-type=\"application/vnd.jupyter.stderr\" style=\"font-family: monospace;\">\n",
       "\n",
       "\n",
       "<span style=\"white-space: pre;\"> # gonb_59b54b38</span>\n",
       "\n",
       "<br/>\n",
       "\n",
       "<span class=\"gonb-cell-line-info\">Cell[11]: Line 8</span>\n",
       "<span class=\"gonb-err-location\">./main.go:14:22: </span> cannot use 260 (untyped int constant) as uint8 value in variable declaration (overflows)\n",
       "<div class=\"gonb-err-context\">\n",
       "\n",
       "\n",
       "func main () {\n",
       "<div class=\"gonb-err-line\">\tvar maxUint uint8 = 260 // uint8&#39;s max value is 255\n",
       "</div>\tfmt.Println(&#34;value: &#34;, maxUint)\n",
       "}\n",
       "\n",
       "</div>\n",
       "\n",
       "<br/>\n",
       "\n",
       "\n",
       "<span style=\"white-space: pre;\"> </span>\n",
       "\n",
       "<br/>\n",
       "\n",
       "</div>\n"
      ]
     },
     "metadata": {},
     "output_type": "display_data"
    },
    {
     "ename": "ERROR",
     "evalue": "failed to run \"/usr/local/go/bin/go build -o /var/folders/y9/p4yw2gdn38q6fgzb_5296ggc0000gp/T/gonb_59b54b38/gonb_59b54b38\": exit status 1",
     "output_type": "error",
     "traceback": [
      "failed to run \"/usr/local/go/bin/go build -o /var/folders/y9/p4yw2gdn38q6fgzb_5296ggc0000gp/T/gonb_59b54b38/gonb_59b54b38\": exit status 1"
     ]
    }
   ],
   "source": [
    "// example of overflow\n",
    "\n",
    "package main\n",
    "\n",
    "import \"fmt\"\n",
    "\n",
    "func main () {\n",
    "\tvar maxUint uint8 = 260 // uint8's max value is 255\n",
    "\tfmt.Println(\"value: \", maxUint)\n",
    "}\n",
    "\n",
    "// this code will return an error at compile time"
   ]
  },
  {
   "cell_type": "code",
   "execution_count": 12,
   "metadata": {},
   "outputs": [
    {
     "name": "stdout",
     "output_type": "stream",
     "text": [
      "value:  4\n"
     ]
    }
   ],
   "source": [
    "// example of wraparound\n",
    "\n",
    "package main\n",
    "\n",
    "import \"fmt\"\n",
    "\n",
    "func main () {\n",
    "  var maxInt uint8 = 255 // uint8's max value is 255\n",
    "  fmt.Println(\"value: \", maxInt+5)\n",
    "}\n",
    "\n",
    "// this code will compile successufully but the will print 4 instead of 260"
   ]
  },
  {
   "cell_type": "markdown",
   "metadata": {},
   "source": [
    "- Go does not saturate variable during mathematical operations such as addition or multiplication. In languages that saturate, if you have a uint8 with a max value of 255 and add 1, the value is still the max(saturated) value of 255. In Go however, it always wraps around.\n",
    "- Understanding the boundaries of your data helps you avoid potential bugs in your program in the future.\n",
    "- read more about saturation arithmetic on [wikipedia](https://en.wikipedia.org/wiki/Saturation_arithmetic)"
   ]
  },
  {
   "cell_type": "markdown",
   "metadata": {},
   "source": [
    "### Strings"
   ]
  },
  {
   "cell_type": "markdown",
   "metadata": {},
   "source": []
  }
 ],
 "metadata": {
  "kernelspec": {
   "display_name": "Go (gonb)",
   "language": "go",
   "name": "gonb"
  },
  "language_info": {
   "codemirror_mode": "",
   "file_extension": ".go",
   "mimetype": "",
   "name": "go",
   "nbconvert_exporter": "",
   "pygments_lexer": "",
   "version": "go1.23.2"
  }
 },
 "nbformat": 4,
 "nbformat_minor": 2
}
